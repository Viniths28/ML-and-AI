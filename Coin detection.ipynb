{
 "cells": [
  {
   "cell_type": "code",
   "execution_count": 121,
   "metadata": {
    "collapsed": true
   },
   "outputs": [],
   "source": [
    "from sklearn.neural_network import MLPClassifier\n",
    "from sklearn.model_selection import train_test_split\n",
    "\n",
    "import math\n",
    "import numpy as np\n",
    "import argparse\n",
    "import glob\n",
    "import cv2\n",
    "from sklearn.neural_network import MLPClassifier\n",
    "from sklearn.model_selection import train_test_split\n",
    "from __future__ import division\n",
    "from math import cos, sin"
   ]
  },
  {
   "cell_type": "code",
   "execution_count": 122,
   "metadata": {
    "collapsed": true
   },
   "outputs": [],
   "source": [
    "image = cv2.imread(\"D:/coin.jpg\", 1)"
   ]
  },
  {
   "cell_type": "code",
   "execution_count": 123,
   "metadata": {},
   "outputs": [],
   "source": [
    "d = 1024 / image.shape[1]\n",
    "dim = (1024, int(image.shape[0] * d))\n",
    "image = cv2.resize(image, dim, interpolation=cv2.INTER_AREA)\n",
    "cv2.imshow(\"input\", image)\n",
    "cv2.waitKey(0)\n",
    "cv2.destroyAllWindows()\n"
   ]
  },
  {
   "cell_type": "code",
   "execution_count": 124,
   "metadata": {},
   "outputs": [],
   "source": [
    "output = image.copy()"
   ]
  },
  {
   "cell_type": "code",
   "execution_count": 125,
   "metadata": {
    "collapsed": true
   },
   "outputs": [],
   "source": [
    "gray = cv2.cvtColor(image, cv2.COLOR_BGR2GRAY)"
   ]
  },
  {
   "cell_type": "code",
   "execution_count": 126,
   "metadata": {
    "collapsed": true
   },
   "outputs": [],
   "source": [
    "clahe = cv2.createCLAHE(clipLimit=2.0, tileGridSize=(8, 8))\n",
    "gray = clahe.apply(gray)"
   ]
  },
  {
   "cell_type": "code",
   "execution_count": 127,
   "metadata": {},
   "outputs": [],
   "source": [
    "def calcHistogram(img):\n",
    "    # create mask\n",
    "    m = np.zeros(img.shape[:2], dtype=\"uint8\")\n",
    "    (w, h) = (int(img.shape[1] / 2), int(img.shape[0] / 2))\n",
    "    cv2.circle(m, (w, h), 60, 255, -1)\n",
    "    h = cv2.calcHist([img], [0, 1, 2], m, [8, 8, 8], [0, 256, 0, 256, 0, 256])\n",
    "    return cv2.normalize(h, h).flatten()"
   ]
  },
  {
   "cell_type": "code",
   "execution_count": 128,
   "metadata": {},
   "outputs": [],
   "source": [
    "def calcHistFromFile(file):\n",
    "    img = cv2.imread(file)\n",
    "    return calcHistogram(img)"
   ]
  },
  {
   "cell_type": "code",
   "execution_count": 129,
   "metadata": {
    "collapsed": true
   },
   "outputs": [],
   "source": [
    "class Enum(tuple): __getattr__ = tuple.index"
   ]
  },
  {
   "cell_type": "code",
   "execution_count": 130,
   "metadata": {
    "collapsed": true
   },
   "outputs": [],
   "source": [
    "Material = Enum(('Copper', 'Brass', 'Euro1', 'Euro2'))"
   ]
  },
  {
   "cell_type": "code",
   "execution_count": 131,
   "metadata": {
    "collapsed": true
   },
   "outputs": [],
   "source": [
    "sample_images_copper = glob.glob(\"D:/Masterfile/sample_images/copper/*\")\n",
    "sample_images_brass = glob.glob(\"D:/Masterfile/sample_images/brass/*\")\n",
    "sample_images_euro1 = glob.glob(\"D:/Masterfile/sample_images/euro1/*\")\n",
    "sample_images_euro2 = glob.glob(\"D:/Masterfile/sample_images/euro2/*\")"
   ]
  },
  {
   "cell_type": "code",
   "execution_count": 132,
   "metadata": {
    "collapsed": true
   },
   "outputs": [],
   "source": [
    "X = []\n",
    "y = []\n",
    "for i in sample_images_copper:\n",
    "    X.append(calcHistFromFile(i))\n",
    "    y.append(Material.Copper)\n",
    "for i in sample_images_brass:\n",
    "    X.append(calcHistFromFile(i))\n",
    "    y.append(Material.Brass)\n",
    "for i in sample_images_euro1:\n",
    "    X.append(calcHistFromFile(i))\n",
    "    y.append(Material.Euro1)\n",
    "for i in sample_images_euro2:\n",
    "    X.append(calcHistFromFile(i))\n",
    "    y.append(Material.Euro2)"
   ]
  },
  {
   "cell_type": "code",
   "execution_count": 133,
   "metadata": {},
   "outputs": [],
   "source": [
    "clf = MLPClassifier(solver=\"lbfgs\")"
   ]
  },
  {
   "cell_type": "code",
   "execution_count": 134,
   "metadata": {
    "collapsed": true
   },
   "outputs": [],
   "source": [
    "X_train, X_test, y_train, y_test = train_test_split(\n",
    "    X, y, test_size=.4)"
   ]
  },
  {
   "cell_type": "code",
   "execution_count": 135,
   "metadata": {},
   "outputs": [
    {
     "name": "stdout",
     "output_type": "stream",
     "text": [
      "Classifier mean accuracy:  94\n"
     ]
    }
   ],
   "source": [
    "clf.fit(X_train, y_train)\n",
    "score = int(clf.score(X_test, y_test) * 100)\n",
    "print(\"Classifier mean accuracy: \", score)"
   ]
  },
  {
   "cell_type": "code",
   "execution_count": 136,
   "metadata": {
    "collapsed": true
   },
   "outputs": [],
   "source": [
    "blurred = cv2.GaussianBlur(gray, (7, 7), 0)"
   ]
  },
  {
   "cell_type": "code",
   "execution_count": 137,
   "metadata": {
    "collapsed": true
   },
   "outputs": [],
   "source": [
    "circles = cv2.HoughCircles(blurred, cv2.HOUGH_GRADIENT, dp=2.2, minDist=100,\n",
    "                           param1=200, param2=100, minRadius=50, maxRadius=120)"
   ]
  },
  {
   "cell_type": "code",
   "execution_count": 138,
   "metadata": {},
   "outputs": [],
   "source": [
    "\n",
    "def predictMaterial(roi): \n",
    "    hist = calcHistogram(roi)\n",
    "    s = clf.predict([hist])\n",
    "    return Material[int(s)]\n",
    "\n",
    "\n",
    "\n",
    "diameter = []\n",
    "materials = []\n",
    "coordinates = []\n",
    "\n",
    "count = 0\n",
    "if circles is not None:\n",
    "    for (x, y, r) in circles[0, :]:\n",
    "        diameter.append(r)\n",
    "\n",
    "    circles = np.round(circles[0, :]).astype(\"int\")\n",
    "    for (x, y, d) in circles:\n",
    "        count += 1\n",
    "        coordinates.append((x, y))\n",
    "\n",
    "        roi = image[y - d:y + d, x - d:x + d]\n",
    "        material = predictMaterial(roi)\n",
    "        materials.append(material)\n",
    "\n",
    "        if False:\n",
    "            m = np.zeros(roi.shape[:2], dtype=\"uint8\")\n",
    "            w = int(roi.shape[1] / 2)\n",
    "            h = int(roi.shape[0] / 2)\n",
    "            cv2.circle(m, (w, h), d, (255), -1)\n",
    "            maskedCoin = cv2.bitwise_and(roi, roi, mask=m)\n",
    "        \n",
    "\n",
    "        cv2.circle(output, (x, y), d, (0, 255, 0), 2)\n",
    "        cv2.putText(output, material,\n",
    "                    (x - 40, y), cv2.FONT_HERSHEY_PLAIN,\n",
    "                    1.5, (0, 255, 0), thickness=2, lineType=cv2.LINE_AA)"
   ]
  },
  {
   "cell_type": "code",
   "execution_count": null,
   "metadata": {},
   "outputs": [],
   "source": []
  },
  {
   "cell_type": "code",
   "execution_count": 139,
   "metadata": {
    "collapsed": true
   },
   "outputs": [],
   "source": [
    "d = 500 / output.shape[1]  \n",
    "dim = (500, int(output.shape[0] * d))\n",
    "image = cv2.resize(image, dim, interpolation=cv2.INTER_AREA)\n",
    "output = cv2.resize(output, dim, interpolation=cv2.INTER_AREA)"
   ]
  },
  {
   "cell_type": "code",
   "execution_count": 140,
   "metadata": {},
   "outputs": [
    {
     "name": "stdout",
     "output_type": "stream",
     "text": [
      "done\n"
     ]
    }
   ],
   "source": [
    "cv2.imshow(\"Output\",(output))\n",
    "cv2.waitKey()\n",
    "cv2.destroyAllWindows()\n",
    "image2=cv2.imread(\"output.jpg\",1)\n",
    "print('done')"
   ]
  },
  {
   "cell_type": "code",
   "execution_count": 141,
   "metadata": {},
   "outputs": [
    {
     "data": {
      "text/plain": [
       "True"
      ]
     },
     "execution_count": 141,
     "metadata": {},
     "output_type": "execute_result"
    }
   ],
   "source": [
    "cv2.imwrite(\"D:/Coindetected.jpg\", output) \n"
   ]
  },
  {
   "cell_type": "code",
   "execution_count": null,
   "metadata": {},
   "outputs": [],
   "source": []
  },
  {
   "cell_type": "code",
   "execution_count": null,
   "metadata": {
    "collapsed": true
   },
   "outputs": [],
   "source": []
  }
 ],
 "metadata": {
  "kernelspec": {
   "display_name": "Python 3",
   "language": "python",
   "name": "python3"
  },
  "language_info": {
   "codemirror_mode": {
    "name": "ipython",
    "version": 3
   },
   "file_extension": ".py",
   "mimetype": "text/x-python",
   "name": "python",
   "nbconvert_exporter": "python",
   "pygments_lexer": "ipython3",
   "version": "3.6.3"
  }
 },
 "nbformat": 4,
 "nbformat_minor": 2
}
